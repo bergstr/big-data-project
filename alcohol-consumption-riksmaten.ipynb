{
 "cells": [
  {
   "cell_type": "markdown",
   "id": "43ece1d9",
   "metadata": {},
   "source": [
    "## Predicting alcohol consumption based on demographic factors\n",
    "\n",
    "A big data assignment, testing the feasibility of predicting alcohol use.\n",
    "Data used is from [Riksmaten 2010-11](https://www.livsmedelsverket.se/matvanor-halsa--miljo/matvanor---undersokningar/riksmaten-2010-11---vuxna) by Swedish food agency.\n",
    "\n",
    "More on the data format [here](https://www.livsmedelsverket.se/om-oss/psidata/apimatvanor).\n",
    "\n",
    "Column of interest is 'Alko' representing mean daily intake of alcohol in grams for observed inviduals."
   ]
  },
  {
   "cell_type": "markdown",
   "id": "5d37136e",
   "metadata": {},
   "source": [
    "#### Import libraries"
   ]
  },
  {
   "cell_type": "code",
   "execution_count": null,
   "id": "83daee48",
   "metadata": {},
   "outputs": [],
   "source": [
    "import urllib3\n",
    "import xml.etree.ElementTree as ET\n",
    "import hashlib\n",
    "import pandas\n",
    "from sklearn import linear_model\n",
    "from sklearn.model_selection import train_test_split\n",
    "from sklearn.tree import DecisionTreeClassifier\n",
    "from sklearn.tree import DecisionTreeRegressor\n",
    "from sklearn.model_selection import cross_val_score\n",
    "from graphviz import Source\n",
    "from sklearn import tree\n",
    "import warnings\n",
    "warnings.filterwarnings('ignore')\n",
    "import numpy as np\n",
    "import matplotlib.pyplot as plt"
   ]
  },
  {
   "cell_type": "markdown",
   "id": "af0b7d48",
   "metadata": {},
   "source": [
    "#### Step 1. Download survey data"
   ]
  },
  {
   "cell_type": "code",
   "execution_count": null,
   "id": "83859b8c",
   "metadata": {},
   "outputs": [],
   "source": [
    "http = urllib3.PoolManager()\n",
    "\n",
    "for i in range(1,19):\n",
    "    print(f'Currently downloading: {i}.xml')\n",
    "    r = http.request('GET', f'http://www7.slv.se/apilivsmedel/undersokningservice.svc/undersokning/14/{i}', preload_content=False)\n",
    "\n",
    "    with open(f'{i}.xml', 'wb') as out:\n",
    "        while True:\n",
    "            data = r.read(32)\n",
    "            if not data:\n",
    "                break\n",
    "            out.write(data)\n",
    "\n",
    "    r.release_conn()\n",
    "\n",
    "print('Done.')"
   ]
  },
  {
   "cell_type": "markdown",
   "id": "489a1731",
   "metadata": {},
   "source": [
    "#### Step 2. Process xml"
   ]
  },
  {
   "cell_type": "code",
   "execution_count": null,
   "id": "0df77b69",
   "metadata": {},
   "outputs": [],
   "source": [
    "tree = ET.parse('1.xml')\n",
    "root = tree.getroot()\n",
    "deltagarlista = root.find('DeltagareLista')\n",
    "tree._setroot(deltagarlista)\n",
    "root = tree.getroot()\n",
    "\n",
    "for i in range(2,19):\n",
    "    print(f'Currently processing: {i}.xml')\n",
    "    nexttree = ET.parse(f'{i}.xml')\n",
    "    nextroot = nexttree.getroot()\n",
    "    nextdeltagarlista = nextroot.find('DeltagareLista')\n",
    "    nexttree._setroot(nextdeltagarlista)\n",
    "    nextroot = nexttree.getroot()\n",
    "    for nextdeltagare in nextroot.findall('Deltagare'):\n",
    "        root.append(nextdeltagare)\n",
    "\n",
    "print('Cleaning up and writing xml to file.')\n",
    "\n",
    "for deltagare in root.findall('Deltagare'):\n",
    "    deltagare.remove(deltagare.find('RegistreringsDagar'))\n",
    "    alkohol = deltagare.find('NaringsvardenPerDag').find('Alko')\n",
    "    deltagare.append(alkohol)\n",
    "    deltagare.remove(deltagare.find('NaringsvardenPerDag'))\n",
    "\n",
    "tree.write('output.xml')\n",
    "print('Done.')"
   ]
  },
  {
   "cell_type": "markdown",
   "id": "644b2847",
   "metadata": {},
   "source": [
    "#### Step 3. Compare xml (optional)"
   ]
  },
  {
   "cell_type": "code",
   "execution_count": null,
   "id": "ba7a438e",
   "metadata": {},
   "outputs": [],
   "source": [
    "m = hashlib.sha256()\n",
    "\n",
    "with open('output.xml', mode='rb') as file:\n",
    "    m.update(file.read())\n",
    "\n",
    "if m.hexdigest() == '02577d008dd232ae24c5e4d57d3caba6a5ccaa42bee4f2ef31829111d596584b':\n",
    "    print('Success, survey data has not been changed. 👍')\n",
    "else:\n",
    "    print('Error, looks like the survey data has been changed. Results might differ!')"
   ]
  },
  {
   "cell_type": "markdown",
   "id": "4c8d5d2b",
   "metadata": {},
   "source": [
    "#### Step 4. Filter data"
   ]
  },
  {
   "cell_type": "code",
   "execution_count": null,
   "id": "fac25fc1",
   "metadata": {},
   "outputs": [],
   "source": [
    "survey = pandas.read_xml(\"output.xml\")\n",
    "survey"
   ]
  },
  {
   "cell_type": "markdown",
   "id": "62ce9cee",
   "metadata": {},
   "source": [
    "Filter out rows where education level is missing."
   ]
  },
  {
   "cell_type": "code",
   "execution_count": null,
   "id": "aa69d44d",
   "metadata": {},
   "outputs": [],
   "source": [
    "survey = survey[survey['HogstaUtb'] != \"Uppgift saknas  (här ingår även personer äldre än 74 år)\"]"
   ]
  },
  {
   "cell_type": "markdown",
   "id": "9eabf248",
   "metadata": {},
   "source": [
    "Scatterplot for age and registered alcohol use."
   ]
  },
  {
   "cell_type": "code",
   "execution_count": null,
   "id": "22591508",
   "metadata": {},
   "outputs": [],
   "source": [
    "survey.plot.scatter(x='Alder',y='Alko',c='Black')"
   ]
  },
  {
   "cell_type": "code",
   "execution_count": null,
   "id": "1c7540c3",
   "metadata": {},
   "outputs": [],
   "source": [
    "survey.boxplot(column='Alko')"
   ]
  },
  {
   "cell_type": "markdown",
   "id": "f34c6b44",
   "metadata": {},
   "source": [
    "Filter observations beyond 2.7σ from the mean."
   ]
  },
  {
   "cell_type": "code",
   "execution_count": null,
   "id": "a6eeacb1",
   "metadata": {},
   "outputs": [],
   "source": [
    "q3 = survey['Alko'].quantile(.75)\n",
    "q1 = survey['Alko'].quantile(.25)\n",
    "iqr = q3 - q1\n",
    "outliers = (q3 + 1.5 * iqr)\n",
    "\n",
    "survey = survey[survey['Alko'] <= outliers] #Filter on IQR times 1.5"
   ]
  },
  {
   "cell_type": "markdown",
   "id": "4733cd03",
   "metadata": {},
   "source": [
    "Perform mean imputation on some missing values considered missing at random."
   ]
  },
  {
   "cell_type": "code",
   "execution_count": null,
   "id": "9f8639ca",
   "metadata": {},
   "outputs": [],
   "source": [
    "survey['DeltagarensInkomst'] = survey['DeltagarensInkomst'].fillna(survey['DeltagarensInkomst'].mean())\n",
    "survey['HushalletsInkomst'] = survey['HushalletsInkomst'].fillna(survey['HushalletsInkomst'].mean())\n",
    "survey['Langd'] = survey['Langd'].fillna(survey['Langd'].mean())\n",
    "survey['Vikt'] = survey['Vikt'].fillna(survey['Vikt'].mean())"
   ]
  },
  {
   "cell_type": "markdown",
   "id": "083acd4f",
   "metadata": {},
   "source": [
    "Calculate if observed consumption is more than [\"low risk\"](https://www.omsystembolaget.se/folkhalsa/kropp-och-halsa/bruk-och-beroende/hjalp-och-stod/ofarligt-drickande/)."
   ]
  },
  {
   "cell_type": "code",
   "execution_count": null,
   "id": "1df0f89f",
   "metadata": {},
   "outputs": [],
   "source": [
    "survey['Risky'] = survey['Alko'].apply(lambda x: 1 if x>17.1 else 0)"
   ]
  },
  {
   "cell_type": "markdown",
   "id": "287b9fd5",
   "metadata": {},
   "source": [
    "Create dummy variables for sex and University education (or similar)."
   ]
  },
  {
   "cell_type": "code",
   "execution_count": null,
   "id": "78f950f7",
   "metadata": {},
   "outputs": [],
   "source": [
    "survey = pandas.get_dummies(survey, columns=['Kon'], drop_first=True)\n",
    "def went_to_uni(education):\n",
    "    if education == \"Forskarutbildning\" or education == \"Eftergymnasial utbildning 3 år eller längre (exkl. forskarutbildning)\":\n",
    "        return 1\n",
    "    else:\n",
    "        return 0\n",
    "\n",
    "survey[\"Uni\"] = survey[\"HogstaUtb\"].apply(went_to_uni)"
   ]
  },
  {
   "cell_type": "markdown",
   "id": "99b4c31a",
   "metadata": {},
   "source": [
    "Print correlation matrix of our data so far."
   ]
  },
  {
   "cell_type": "code",
   "execution_count": null,
   "id": "21c87db8",
   "metadata": {},
   "outputs": [],
   "source": [
    "survey.corr()"
   ]
  },
  {
   "cell_type": "markdown",
   "id": "39b18f36",
   "metadata": {},
   "source": [
    "We can't see any useful correlation yet, albeit this is only linear ones, lets try training some models anyway."
   ]
  },
  {
   "cell_type": "markdown",
   "id": "e9629d70",
   "metadata": {},
   "source": [
    "##### DecisionTreeRegressor predicting average alcohol intake based on sex, age, income."
   ]
  },
  {
   "cell_type": "code",
   "execution_count": null,
   "id": "3bc34340",
   "metadata": {},
   "outputs": [],
   "source": [
    "alko_data = survey.Alko  # save this for training later\n",
    "\n",
    "survey_alko = survey[['Kon_Man', 'Alder', 'DeltagarensInkomst']] # Use most promising columns\n",
    "\n",
    "X_train, X_test, y_train, y_test = train_test_split(survey_alko, alko_data, test_size=0.25)\n",
    "print(\"Our training data has {} rows\".format(len(X_train)))\n",
    "print(\"Our test data has {} rows\".format(len(X_test)))"
   ]
  },
  {
   "cell_type": "code",
   "execution_count": null,
   "id": "c3b5dd98",
   "metadata": {},
   "outputs": [],
   "source": [
    "regressor = DecisionTreeRegressor(max_depth=3)\n",
    "regressor_fit = regressor.fit(X_train.values, y_train.values)\n",
    "\n",
    "dt_scores = cross_val_score(regressor_fit, X_train, y_train, cv = 5)\n",
    "print(\"mean cross validation score: {}\".format(np.mean(dt_scores)))\n",
    "print(\"score without cross validation: {}\".format(regressor_fit.score(X_train, y_train)))"
   ]
  },
  {
   "cell_type": "code",
   "execution_count": null,
   "id": "d0832735",
   "metadata": {},
   "outputs": [],
   "source": [
    "sample = X_test.head(10)\n",
    "sample['Alko'] = regressor.predict(sample)\n",
    "sample"
   ]
  },
  {
   "cell_type": "markdown",
   "id": "82370146",
   "metadata": {},
   "source": [
    "##### DecisionTreeClassifier predicting non-\"low risk\" drinking based on sex, age, income."
   ]
  },
  {
   "cell_type": "code",
   "execution_count": null,
   "id": "4da883ca",
   "metadata": {},
   "outputs": [],
   "source": [
    "risk_data = survey.Risky  # save this for training later\n",
    "\n",
    "survey_risk = survey[['Kon_Man', 'Alder', 'DeltagarensInkomst']] # Use most promising columns\n",
    "\n",
    "X_train, X_test, y_train, y_test = train_test_split(survey_risk, risk_data, test_size=0.25)\n",
    "print(\"Our training data has {} rows\".format(len(X_train)))\n",
    "print(\"Our test data has {} rows\".format(len(X_test)))"
   ]
  },
  {
   "cell_type": "code",
   "execution_count": null,
   "id": "423f50a5",
   "metadata": {},
   "outputs": [],
   "source": [
    "classifier = DecisionTreeClassifier(max_depth=3)\n",
    "classifier_fit = classifier.fit(X_train.values, y_train.values)\n",
    "\n",
    "dt_scores = cross_val_score(classifier_fit, X_train, y_train, cv = 5)\n",
    "print(\"mean cross validation score: {}\".format(np.mean(dt_scores)))\n",
    "print(\"score without cross validation: {}\".format(classifier_fit.score(X_train, y_train)))"
   ]
  },
  {
   "cell_type": "markdown",
   "id": "8b88e952",
   "metadata": {},
   "source": [
    "These validation scores are way too high as tree is biased due to one class dominating."
   ]
  },
  {
   "cell_type": "markdown",
   "id": "e19880a6",
   "metadata": {},
   "source": [
    "Verdict: Not very useful, do we need more data?, better data?"
   ]
  }
 ],
 "metadata": {
  "kernelspec": {
   "display_name": "Python 3 (ipykernel)",
   "language": "python",
   "name": "python3"
  },
  "language_info": {
   "codemirror_mode": {
    "name": "ipython",
    "version": 3
   },
   "file_extension": ".py",
   "mimetype": "text/x-python",
   "name": "python",
   "nbconvert_exporter": "python",
   "pygments_lexer": "ipython3",
   "version": "3.9.13"
  }
 },
 "nbformat": 4,
 "nbformat_minor": 5
}
